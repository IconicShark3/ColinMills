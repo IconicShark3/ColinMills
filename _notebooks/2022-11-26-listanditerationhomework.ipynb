{
 "cells": [
  {
   "cell_type": "markdown",
   "metadata": {},
   "source": [
    "# Homework \n",
    "\n",
    "- toc: true\n",
    "- title: Homework 8,10\n",
    "- badges: true\n",
    "- comments: true\n",
    "<!---F**k me for having prior obligations and not geting this submitted by 7>"
   ]
  },
  {
   "cell_type": "markdown",
   "metadata": {},
   "source": [
    "## Overview and Notes:  3.10 - Lists\n",
    "- Make sure you complete the challenge in the challenges section while we present the lesson! \n",
    "\n",
    "Add your <mark>OWN</mark> Notes for 3.10 here: \n",
    "\n",
    "Lists hold many data points and can be used to \n",
    "lists ave indexes that start at 0\n",
    "Numbers in lists can be used in math\n",
    "\n",
    "Fill out the empty boxes: \n",
    "\n",
    "|   Pseudocode Operation  | Python Syntax |                                                           Description                                                          |\n",
    "|:-----------------------:|---------------|:------------------------------------------------------------------------------------------------------------------------------:|\n",
    "|         ?        |       aList[i]        | _Accesses the element of aList at index i_                                                                                     |\n",
    "|       x ← aList[i]      |       ?        | _Assigns the element of aList at index i <br>to a variable 'x'_                                                                |\n",
    "|       ?      |      aList(i) = x         | _Assigns the value of a variable 'x' to <br>the element of a List at index i_                                                  |\n",
    "|   aList[i] ← aList[j]   |       ?        | _Assigns value of aList[j] to aList[i]_                                                                                        |\n",
    "| ? |       aList.insert(i, value)        | _value is placed at index i in aList. Any <br>element at an index greater than i will shift<br>one position to the right. _    |\n",
    "|   APPEND(aList, value)  |      aList.append(value)         | ?                                    |\n",
    "|     ?    |      aList.pop(i)<br>OR<br>aList.remove(value)         | _Removes item at index i and any values at <br>indices greater than i shift to the left. <br>Length of aList decreased by 1. _ |\n"
   ]
  },
  {
   "cell_type": "markdown",
   "metadata": {},
   "source": [
    "## Overview and Notes:  3.8 - Iteration\n",
    "\n",
    "Add your <mark>OWN</mark> Notes for 3.8 here: \n",
    "\n",
    "Iteration is repetition\n",
    "repeating an action an amount of times\n",
    "uses functions and stuff\n",
    "incrememt and ranges\n",
    "for i in range et cetera\n",
    "automates repetition of stuff"
   ]
  },
  {
   "cell_type": "markdown",
   "metadata": {},
   "source": [
    "## Homework Assignment\n",
    "\n",
    "Instead of us making a quiz for you to take, we would like YOU to make a quiz about the material we reviewed.\n",
    "\n",
    "We would like you to <mark>input questions into a list</mark>, and use some sort of iterative system to print the questions, detect an input, and determine if you answered correctly. There should be *at least* <mark>five questions</mark>, each with *at least* <mark>three possible answers</mark>.\n",
    "\n",
    "You may use the template below as a framework for this assignment."
   ]
  },
  {
   "cell_type": "code",
   "execution_count": 1,
   "metadata": {},
   "outputs": [
    {
     "name": "stdout",
     "output_type": "stream",
     "text": [
      "How do you insert a value into a list?\n",
      "----------\n",
      "1: scream very loudly\n",
      "2: list.insert[]\n",
      "3: insert.list[]\n",
      "Correct\n",
      "--------\n",
      "What is a list?\n",
      "----------\n",
      "1: A collection of data contained under one variable\n",
      "2: every variable that appears in your code\n",
      "3: that thing that you take to the store with you\n",
      "Correct\n",
      "--------\n",
      "What is itteration?\n",
      "----------\n",
      "1: rewriting the same line of code many times\n",
      "2: what teachers have to do when the class is noisy\n",
      "3: making a function do a task over an index\n",
      "Correct\n",
      "--------\n",
      "How do you add a value to the end of a list?\n",
      "----------\n",
      "1: list.append[]\n",
      "2: list.insert.end[]\n",
      "3: scream extra very loudly\n",
      "Correct\n",
      "--------\n",
      "How do you remove a value from a list?\n",
      "----------\n",
      "1: list.delete[]\n",
      "2: list.remove[]\n",
      "3: list.uninsert[]\n",
      "Correct\n",
      "--------\n",
      "You got 5 out of 5 correct!\n"
     ]
    }
   ],
   "source": [
    "questions = [\n",
    "    # Question, Answer1, Answer2, Answer3, CorrectAnswer\n",
    "    ('How do you insert a value into a list?','scream very loudly','list.insert[]','insert.list[]',2),\n",
    "    ('What is a list?','A collection of data contained under one variable','every variable that appears in your code','that thing that you take to the store with you',1),\n",
    "    ('What is itteration?','rewriting the same line of code many times','what teachers have to do when the class is noisy','making a function do a task over an index',3),\n",
    "    ('How do you add a value to the end of a list?','list.append[]','list.insert.end[]','scream extra very loudly',1),\n",
    "    ('How do you remove a value from a list?','list.delete[]','list.remove[]','list.uninsert[]',2)\n",
    "    #questions go here (remember to make them strings!)\n",
    "]\n",
    "def quiz():\n",
    "    score = 0\n",
    "    for i in range(len(questions)):\n",
    "        print(questions[i][0])\n",
    "        print('----------')\n",
    "        print('1:',questions[i][1])\n",
    "        print('2:',questions[i][2])\n",
    "        print('3:',questions[i][3])\n",
    "        answer = input('Is 1, 2, or 3 correct?')\n",
    "        if int(answer) == questions[i][4]:\n",
    "            print('Correct')\n",
    "            score = score + 1\n",
    "        else:\n",
    "            print('incorrect')\n",
    "        print('--------')\n",
    "    print('You got',score,'out of 5 correct!')\n",
    "    pass\n",
    "quiz()"
   ]
  },
  {
   "cell_type": "markdown",
   "metadata": {},
   "source": [
    "### Hacks\n",
    "\n",
    "Here are some ideas of things you can do to make your program even cooler. Doing these will raise your grade if done correctly.\n",
    "\n",
    "- Add more than five questions with more than three answer choices\n",
    "- Randomize the order in which questions/answers are output\n",
    "- At the end, display the user's score and determine whether or not they passed\n",
    "\n",
    "## Challenges\n",
    "\n",
    "<mark>Important!</mark> You don't have to complete these challenges completely perfectly, but you will be marked down if you don't show evidence of at least having tried these challenges in the time we gave during the lesson.\n",
    "\n",
    "### 3.10 Challenge\n",
    "\n",
    "Follow the instructions in the code comments."
   ]
  },
  {
   "cell_type": "code",
   "execution_count": 11,
   "metadata": {},
   "outputs": [
    {
     "name": "stdout",
     "output_type": "stream",
     "text": [
      "carrots\n",
      "carrots\n",
      "artichokes\n",
      "['apples', 'eggs', 'artichokes', 'carrots', 'cucumbers', 'umbrellas', 'artichokes']\n"
     ]
    }
   ],
   "source": [
    "grocery_list = ['apples', 'milk', 'oranges', 'carrots', 'cucumbers']\n",
    "\n",
    "# Print the fourth item in the list\n",
    "\n",
    "print(grocery_list[3])\n",
    "# Now, assign the fourth item in the list to a variable, x and then print the variable\n",
    "\n",
    "x = grocery_list[3]\n",
    "print(x)\n",
    "# Add these two items at the end of the list : umbrellas and artichokes\n",
    "\n",
    "grocery_list.append('umbrellas')\n",
    "grocery_list.append('artichokes')\n",
    "# print(grocery_list)\n",
    "\n",
    "# Insert the item eggs as the third item of the list \n",
    "\n",
    "grocery_list.insert(2,'eggs')\n",
    "# print(grocery_list)\n",
    "# Remove milk from the list \n",
    "\n",
    "grocery_list.remove('milk')\n",
    "# print(grocery_list)\n",
    "\n",
    "# Assign the element at the end of the list to index 2. Print index 2 to check\n",
    "grocery_list[2] = grocery_list[6]\n",
    "print(grocery_list[2])\n",
    "\n",
    "\n",
    "# Print the entire list, does it match ours ? \n",
    "\n",
    "print(grocery_list)\n",
    "\n",
    "# Expected output\n",
    "# carrots\n",
    "# carrots\n",
    "# artichokes\n",
    "# ['apples', 'eggs', 'artichokes', 'carrots', 'cucumbers', 'umbrellas', 'artichokes']"
   ]
  },
  {
   "cell_type": "markdown",
   "metadata": {},
   "source": [
    "### 3.8 Challenge\n",
    "\n",
    "Create a loop that <mark>converts 8-bit binary values</mark> from the provided list into <mark>decimal numbers</mark>. Then, after the value is determined, <mark>remove all the values greater than 100</mark> from the list using a list-related function you've been taught before. <mark>Print the new list</mark> when done.\n",
    "\n",
    "Once you've done this with one of the types of loops discussed in this lesson, create a function that does the same thing with a *different* type of loop."
   ]
  },
  {
   "cell_type": "code",
   "execution_count": 28,
   "metadata": {},
   "outputs": [
    {
     "name": "stdout",
     "output_type": "stream",
     "text": [
      "73\n",
      "170\n",
      "150\n",
      "55\n",
      "236\n",
      "209\n",
      "129\n",
      "['01001001', '00110111']\n"
     ]
    }
   ],
   "source": [
    "binarylist = [\n",
    "    \"01001001\", \"10101010\", \"10010110\", \"00110111\", \"11101100\", \"11010001\", \"10000001\"\n",
    "]\n",
    "newlist = []\n",
    "def binary_convert(binary):\n",
    "    values = []\n",
    "    final = 0\n",
    "    bin = binary[::-1]\n",
    "    for i in range(len(bin)):\n",
    "        values.append(bin[i])\n",
    "        #print(values)\n",
    "    for j in range(len(values)):\n",
    "        if int(values[j]) == 1:\n",
    "            acc = 2**j\n",
    "            #print(acc)\n",
    "            final = final + acc\n",
    "            #print(final)\n",
    "    print(final)\n",
    "    return(final)\n",
    "    #use this function to convert every binary value in binarylist to decimal\n",
    "    #afterward, get rid of the values that are greater than 100 in decimal\n",
    "for x in range(len(binarylist)):\n",
    "    idgaf = binary_convert(binarylist[x])\n",
    "    if idgaf <= 100:\n",
    "        newlist.append(binarylist[x])\n",
    "print(newlist)\n",
    "\n",
    "        \n",
    "#when done, print the results"
   ]
  }
 ],
 "metadata": {
  "kernelspec": {
   "display_name": "Python 3.8.10 64-bit",
   "language": "python",
   "name": "python3"
  },
  "language_info": {
   "codemirror_mode": {
    "name": "ipython",
    "version": 3
   },
   "file_extension": ".py",
   "mimetype": "text/x-python",
   "name": "python",
   "nbconvert_exporter": "python",
   "pygments_lexer": "ipython3",
   "version": "3.8.10"
  },
  "orig_nbformat": 4,
  "vscode": {
   "interpreter": {
    "hash": "916dbcbb3f70747c44a77c7bcd40155683ae19c65e1c03b4aa3499c5328201f1"
   }
  }
 },
 "nbformat": 4,
 "nbformat_minor": 2
}
