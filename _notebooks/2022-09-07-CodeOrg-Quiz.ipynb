{
 "cells": [
  {
   "cell_type": "markdown",
   "metadata": {},
   "source": [
    "# Code.org / AppLab Quiz\n",
    "\n",
    "- toc: true\n",
    "- badges: true\n",
    "- comments: true\n",
    "- categories: [Jupyter]\n",
    "\n",
    "## Plans\n",
    "\n",
    "Make a quiz about a subject of our choosing in AppLab by Code.org.\n",
    "\n",
    "## Theme\n",
    "\n",
    "Automotive Knowledge\n",
    "\n",
    "## Questions\n",
    "\n",
    "1. What does SUV stand for?\n",
    "- Sports Utility Vehicle\n",
    "- SUper Van\n",
    "- Semi-Utilitarian Veteran\n",
    "- Slightly Upset Volvo\n",
    "2. Which unique number helps the manufacturer identify your vehicle?\n",
    "- VIN\n",
    "- License Plate\n",
    "- MSRP\n",
    "- Radiator\n",
    "3. What part of ChrisFix's car broke during the 24 Hours of Lemons?\n",
    "- Piston Connecting Rod\n",
    "- Blinker Fluid\n",
    "- Camshaft\n",
    "- Piston Return Spring"
   ]
  }
 ],
 "metadata": {
  "kernelspec": {
   "display_name": "Python 3.8.10 64-bit",
   "language": "python",
   "name": "python3"
  },
  "language_info": {
   "name": "python",
   "version": "3.8.10"
  },
  "orig_nbformat": 4,
  "vscode": {
   "interpreter": {
    "hash": "916dbcbb3f70747c44a77c7bcd40155683ae19c65e1c03b4aa3499c5328201f1"
   }
  }
 },
 "nbformat": 4,
 "nbformat_minor": 2
}
