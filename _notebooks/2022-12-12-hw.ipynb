{
 "cells": [
  {
   "attachments": {},
   "cell_type": "markdown",
   "metadata": {},
   "source": [
    "# Unit 3 Lesson 16, Student Copy\n",
    "- toc: true\n",
    "- comments: true\n"
   ]
  },
  {
   "cell_type": "markdown",
   "metadata": {},
   "source": [
    "### Hack #1 - Class Notes\n",
    "\n",
    "Write any extra notes you have here"
   ]
  },
  {
   "attachments": {},
   "cell_type": "markdown",
   "metadata": {},
   "source": [
    "### Hack #2 - Functions Classwork"
   ]
  },
  {
   "cell_type": "code",
   "execution_count": 7,
   "metadata": {},
   "outputs": [
    {
     "name": "stdout",
     "output_type": "stream",
     "text": [
      "['Black Shoes', 'Jeans', 'Grey Shorts', 'Tan Shorts', 'Black T-Shirt']\n",
      "['Black Shoes', 'Grey Shorts', 'Tan Shorts', 'Black T-Shirt']\n"
     ]
    }
   ],
   "source": [
    "# insert your work with randomization/ functions and the mycloset code here # Hint: Use the functions we talked about in the beginning!\n",
    "import random\n",
    "\n",
    "myclothes = ['Black Shoes','Jeans','Grey Shorts','Tan Shorts','Black T-Shirt']\n",
    "def throwout():\n",
    "    y = len(myclothes)-1\n",
    "    x = random.randint(0,y)\n",
    "    myclothes.remove(myclothes[x])\n",
    "print(myclothes)\n",
    "throwout()\n",
    "print(myclothes)\n"
   ]
  },
  {
   "cell_type": "markdown",
   "metadata": {},
   "source": [
    "### Hack #3 - Binary Simulation Problem"
   ]
  },
  {
   "cell_type": "code",
   "execution_count": 22,
   "metadata": {},
   "outputs": [
    {
     "name": "stdout",
     "output_type": "stream",
     "text": [
      "dead\n",
      "dead\n",
      "dead\n",
      "Remaining Survivors: ['William Hartnell', 'Partic Troughton', 'Peter Davison', 'Colin Baker', 'Paul McGann']\n"
     ]
    }
   ],
   "source": [
    "# insert your zombie simulation here; you don't have to use this template but it will help you get started\n",
    "\n",
    "import random\n",
    "survivorstatus = [\"William Hartnell\", \"Partic Troughton\", \"John Pertwee\", \"Tom Baker\" , \"Peter Davison\", \"Colin Baker\", \"Sylvester McCoy\", \"Paul McGann\"]\n",
    "\n",
    "def randomnum(): # function for generating random int\n",
    "    x = random.randint(0,255)\n",
    "    return x\n",
    "\n",
    "def converttobin(n): # function for converting decimal to binary\n",
    "    thelist = []\n",
    "    while n > 0:\n",
    "        if n % 2 == 0:\n",
    "            thelist.append(0)\n",
    "            n = n / 2\n",
    "        else:\n",
    "            thelist.append(1)\n",
    "            n = n / 2\n",
    "            n = n - 0.5\n",
    "    while len(thelist) < 8:\n",
    "        thelist.append(0)\n",
    "    return thelist\n",
    "\n",
    "def survivors(binary,survivors): # function to assign position\n",
    "    survivorlist = []\n",
    "    for i in range(len(binary)):\n",
    "        if binary[i] == 0:\n",
    "            survivorlist.append(survivors[i])\n",
    "        else:\n",
    "            print('dead')\n",
    "    return survivorlist\n",
    "            \n",
    "\n",
    "assignments = converttobin(randomnum())\n",
    "remaining = survivors(assignments,survivorstatus)\n",
    "print('Remaining Survivors:',remaining)\n",
    "    # replace the names above with your choice of people in the house"
   ]
  },
  {
   "cell_type": "markdown",
   "metadata": {},
   "source": [
    "### Hack #4 - Thinking through a problem\n",
    "- create your own simulation involving a dice roll\n",
    "- should include randomization and a function for rolling + multiple trials"
   ]
  },
  {
   "cell_type": "code",
   "execution_count": 25,
   "metadata": {},
   "outputs": [
    {
     "name": "stdout",
     "output_type": "stream",
     "text": [
      "[0, 6, 0, 7]\n"
     ]
    }
   ],
   "source": [
    "from random import randint\n",
    "\n",
    "def rolldice():\n",
    "    sides = int(input('dice side count:'))\n",
    "    rolls = int(input('number of rolls:'))\n",
    "    out = []\n",
    "    for i in range(rolls):\n",
    "        x = randint(0,sides)\n",
    "        out.append(x)\n",
    "    return(out)\n",
    "\n",
    "print(rolldice())\n"
   ]
  },
  {
   "attachments": {},
   "cell_type": "markdown",
   "metadata": {},
   "source": [
    "### Hack 5 - Applying your knowledge to situation based problems\n",
    "\n",
    "Using the questions bank below, create a quiz that presents the user a random question and calculates the user's score. You can use the template below or make your own. Making your own using a loop can give you extra points. "
   ]
  },
  {
   "attachments": {},
   "cell_type": "markdown",
   "metadata": {},
   "source": [
    "1. A researcher gathers data about the effect of Advanced Placement®︎ classes on students' success in college and career, and develops a simulation to show how a sequence of AP classes affect a hypothetical student's pathway.Several school administrators are concerned that the simulation contains bias favoring high-income students, however.\n",
    "    - answer options:\n",
    "        1. The simulation is an abstraction and therefore cannot contain any bias\n",
    "        2. The simulation may accidentally contain bias due to the exclusion of details.\n",
    "        3. If the simulation is found to contain bias, then it is not possible to remove the bias from the simulation.\n",
    "        4. The only way for the simulation to be biased is if the researcher intentionally used data that favored their desired output.\n",
    "2. Jack is trying to plan his financial future using an online tool. The tool starts off by asking him to input details about his current finances and career. It then lets him choose different future scenarios, such as having children. For each scenario chosen, the tool does some calculations and outputs his projected savings at the ages of 35, 45, and 55.Would that be considered a simulation and why?\n",
    "    - answer options\n",
    "        1. No, it's not a simulation because it does not include a visualization of the results.\n",
    "        2. No, it's not a simulation because it does not include all the details of his life history and the future financial environment.\n",
    "        3. Yes, it's a simulation because it runs on a computer and includes both user input and computed output.\n",
    "        4. Yes, it's a simulation because it is an abstraction of a real world scenario that enables the drawing of inferences.\n",
    "3. Sylvia is an industrial engineer working for a sporting goods company. She is developing a baseball bat that can hit balls with higher accuracy and asks their software engineering team to develop a simulation to verify the design.Which of the following details is most important to include in this simulation?\n",
    "    - answer options\n",
    "        1. Realistic sound effects based on the material of the baseball bat and the velocity of the hit\n",
    "        2. A depiction of an audience in the stands with lifelike behavior in response to hit accuracy\n",
    "        3. Accurate accounting for the effects of wind conditions on the movement of the ball\n",
    "        4. A baseball field that is textured to differentiate between the grass and the dirt\n",
    "4. Ashlynn is an industrial engineer who is trying to design a safer parachute. She creates a computer simulation of the parachute opening at different heights and in different environmental conditions.What are advantages of running the simulation versus an actual experiment?\n",
    "    - answer options\n",
    "        1. The simulation will not contain any bias that favors one body type over another, while an experiment will be biased.\n",
    "        2. The simulation can be run more safely than an actual experiment\n",
    "        3. The simulation will accurately predict the parachute's safety level, while an experiment may be inaccurate due to faulty experimental design.\n",
    "        4. The simulation can test the parachute design in a wide range of environmental conditions that may be difficult to reliably reproduce in an experiment.\n",
    "    * this question has 2 correct answers"
   ]
  },
  {
   "cell_type": "code",
   "execution_count": 44,
   "metadata": {},
   "outputs": [
    {
     "name": "stdout",
     "output_type": "stream",
     "text": [
      "A researcher gathers data about the effect of Advanced Placement classes on students' success in college and career, and develops a simulation to show how a sequence of AP classes affect a hypothetical student's pathway.Several school administrators are concerned that the simulation contains bias favoring high-income students, however.\n",
      "The simulation may accidentally contain bias due to the exclusion of details.\n",
      "The simulation is an abstraction and therefore cannot contain any bias\n",
      "If the simulation is found to contain bias, then it is not possible to remove the bias from the simulation.\n",
      "The only way for the simulation to be biased is if the researcher intentionally used data that favored their desired output.\n",
      "Jack is trying to plan his financial future using an online tool. The tool starts off by asking him to input details about his current finances and career. It then lets him choose different future scenarios, such as having children. For each scenario chosen, the tool does some calculations and outputs his projected savings at the ages of 35, 45, and 55.Would that be considered a simulation and why?\n",
      "No, it's not a simulation because it does not include all the details of his life history and the future financial environment.\n",
      "No, it's not a simulation because it does not include all the details of his life history and the future financial environment.\n",
      "No, it's not a simulation because it does not include a visualization of the results.\n",
      "Yes, it's a simulation because it runs on a computer and includes both user input and computed output.\n",
      "Sylvia is an industrial engineer working for a sporting goods company. She is developing a baseball bat that can hit balls with higher accuracy and asks their software engineering team to develop a simulation to verify the design.Which of the following details is most important to include in this simulation?\n",
      "A baseball field that is textured to differentiate between the grass and the dirt\n",
      "Accurate accounting for the effects of wind conditions on the movement of the ball\n",
      "A depiction of an audience in the stands with lifelike behavior in response to hit accuracy\n",
      "A depiction of an audience in the stands with lifelike behavior in response to hit accuracy\n"
     ]
    },
    {
     "ename": "KeyboardInterrupt",
     "evalue": "Interrupted by user",
     "output_type": "error",
     "traceback": [
      "\u001b[0;31m---------------------------------------------------------------------------\u001b[0m",
      "\u001b[0;31mKeyboardInterrupt\u001b[0m                         Traceback (most recent call last)",
      "\u001b[1;32m/home/colinmills/vscode/ColinMills/_notebooks/2022-12-12-hw.ipynb Cell 11\u001b[0m in \u001b[0;36m<cell line: 36>\u001b[0;34m()\u001b[0m\n\u001b[1;32m     <a href='vscode-notebook-cell://wsl%2Bubuntu/home/colinmills/vscode/ColinMills/_notebooks/2022-12-12-hw.ipynb#X12sdnNjb2RlLXJlbW90ZQ%3D%3D?line=33'>34</a>\u001b[0m \u001b[39mprint\u001b[39m(Q3)\n\u001b[1;32m     <a href='vscode-notebook-cell://wsl%2Bubuntu/home/colinmills/vscode/ColinMills/_notebooks/2022-12-12-hw.ipynb#X12sdnNjb2RlLXJlbW90ZQ%3D%3D?line=34'>35</a>\u001b[0m answers(Q3)\n\u001b[0;32m---> <a href='vscode-notebook-cell://wsl%2Bubuntu/home/colinmills/vscode/ColinMills/_notebooks/2022-12-12-hw.ipynb#X12sdnNjb2RlLXJlbW90ZQ%3D%3D?line=35'>36</a>\u001b[0m solution \u001b[39m=\u001b[39m \u001b[39minput\u001b[39;49m(\u001b[39m'\u001b[39;49m\u001b[39mPlease type the answer here, keep in mind the exact capitalization and punctuation as shown.\u001b[39;49m\u001b[39m'\u001b[39;49m)\n\u001b[1;32m     <a href='vscode-notebook-cell://wsl%2Bubuntu/home/colinmills/vscode/ColinMills/_notebooks/2022-12-12-hw.ipynb#X12sdnNjb2RlLXJlbW90ZQ%3D%3D?line=36'>37</a>\u001b[0m \u001b[39mif\u001b[39;00m solution \u001b[39m==\u001b[39m \u001b[39m\"\u001b[39m\u001b[39mAccurate accounting for the effects of wind conditions on the movement of the ball\u001b[39m\u001b[39m\"\u001b[39m:\n\u001b[1;32m     <a href='vscode-notebook-cell://wsl%2Bubuntu/home/colinmills/vscode/ColinMills/_notebooks/2022-12-12-hw.ipynb#X12sdnNjb2RlLXJlbW90ZQ%3D%3D?line=37'>38</a>\u001b[0m     correct \u001b[39m=\u001b[39m correct \u001b[39m+\u001b[39m \u001b[39m1\u001b[39m\n",
      "File \u001b[0;32m~/.local/lib/python3.8/site-packages/ipykernel/kernelbase.py:1177\u001b[0m, in \u001b[0;36mKernel.raw_input\u001b[0;34m(self, prompt)\u001b[0m\n\u001b[1;32m   1173\u001b[0m \u001b[39mif\u001b[39;00m \u001b[39mnot\u001b[39;00m \u001b[39mself\u001b[39m\u001b[39m.\u001b[39m_allow_stdin:\n\u001b[1;32m   1174\u001b[0m     \u001b[39mraise\u001b[39;00m StdinNotImplementedError(\n\u001b[1;32m   1175\u001b[0m         \u001b[39m\"\u001b[39m\u001b[39mraw_input was called, but this frontend does not support input requests.\u001b[39m\u001b[39m\"\u001b[39m\n\u001b[1;32m   1176\u001b[0m     )\n\u001b[0;32m-> 1177\u001b[0m \u001b[39mreturn\u001b[39;00m \u001b[39mself\u001b[39;49m\u001b[39m.\u001b[39;49m_input_request(\n\u001b[1;32m   1178\u001b[0m     \u001b[39mstr\u001b[39;49m(prompt),\n\u001b[1;32m   1179\u001b[0m     \u001b[39mself\u001b[39;49m\u001b[39m.\u001b[39;49m_parent_ident[\u001b[39m\"\u001b[39;49m\u001b[39mshell\u001b[39;49m\u001b[39m\"\u001b[39;49m],\n\u001b[1;32m   1180\u001b[0m     \u001b[39mself\u001b[39;49m\u001b[39m.\u001b[39;49mget_parent(\u001b[39m\"\u001b[39;49m\u001b[39mshell\u001b[39;49m\u001b[39m\"\u001b[39;49m),\n\u001b[1;32m   1181\u001b[0m     password\u001b[39m=\u001b[39;49m\u001b[39mFalse\u001b[39;49;00m,\n\u001b[1;32m   1182\u001b[0m )\n",
      "File \u001b[0;32m~/.local/lib/python3.8/site-packages/ipykernel/kernelbase.py:1219\u001b[0m, in \u001b[0;36mKernel._input_request\u001b[0;34m(self, prompt, ident, parent, password)\u001b[0m\n\u001b[1;32m   1216\u001b[0m             \u001b[39mbreak\u001b[39;00m\n\u001b[1;32m   1217\u001b[0m \u001b[39mexcept\u001b[39;00m \u001b[39mKeyboardInterrupt\u001b[39;00m:\n\u001b[1;32m   1218\u001b[0m     \u001b[39m# re-raise KeyboardInterrupt, to truncate traceback\u001b[39;00m\n\u001b[0;32m-> 1219\u001b[0m     \u001b[39mraise\u001b[39;00m \u001b[39mKeyboardInterrupt\u001b[39;00m(\u001b[39m\"\u001b[39m\u001b[39mInterrupted by user\u001b[39m\u001b[39m\"\u001b[39m) \u001b[39mfrom\u001b[39;00m \u001b[39mNone\u001b[39m\n\u001b[1;32m   1220\u001b[0m \u001b[39mexcept\u001b[39;00m \u001b[39mException\u001b[39;00m:\n\u001b[1;32m   1221\u001b[0m     \u001b[39mself\u001b[39m\u001b[39m.\u001b[39mlog\u001b[39m.\u001b[39mwarning(\u001b[39m\"\u001b[39m\u001b[39mInvalid Message:\u001b[39m\u001b[39m\"\u001b[39m, exc_info\u001b[39m=\u001b[39m\u001b[39mTrue\u001b[39;00m)\n",
      "\u001b[0;31mKeyboardInterrupt\u001b[0m: Interrupted by user"
     ]
    }
   ],
   "source": [
    "correct = 0\n",
    "questions = {\n",
    "    \"A researcher gathers data about the effect of Advanced Placement classes on students' success in college and career, and develops a simulation to show how a sequence of AP classes affect a hypothetical student's pathway.Several school administrators are concerned that the simulation contains bias favoring high-income students, however.\":[\"The simulation is an abstraction and therefore cannot contain any bias\",\"The simulation may accidentally contain bias due to the exclusion of details.\",\"If the simulation is found to contain bias, then it is not possible to remove the bias from the simulation.\",\"The only way for the simulation to be biased is if the researcher intentionally used data that favored their desired output.\"],\n",
    "    \"Jack is trying to plan his financial future using an online tool. The tool starts off by asking him to input details about his current finances and career. It then lets him choose different future scenarios, such as having children. For each scenario chosen, the tool does some calculations and outputs his projected savings at the ages of 35, 45, and 55.Would that be considered a simulation and why?\":[\"No, it's not a simulation because it does not include a visualization of the results.\",\"No, it's not a simulation because it does not include all the details of his life history and the future financial environment.\",\"Yes, it's a simulation because it runs on a computer and includes both user input and computed output.\",\"Yes, it's a simulation because it is an abstraction of a real world scenario that enables the drawing of inferences.\"],\n",
    "    \"Sylvia is an industrial engineer working for a sporting goods company. She is developing a baseball bat that can hit balls with higher accuracy and asks their software engineering team to develop a simulation to verify the design.Which of the following details is most important to include in this simulation?\":[\"Realistic sound effects based on the material of the baseball bat and the velocity of the hit\",\"A depiction of an audience in the stands with lifelike behavior in response to hit accuracy\",\"Accurate accounting for the effects of wind conditions on the movement of the ball\",\"A baseball field that is textured to differentiate between the grass and the dirt\"],\n",
    "    \"Ashlynn is an industrial engineer who is trying to design a safer parachute. She creates a computer simulation of the parachute opening at different heights and in different environmental conditions.What are advantages of running the simulation versus an actual experiment?\":[\"The simulation will not contain any bias that favors one body type over another, while an experiment will be biased.\",\"The simulation can be run more safely than an actual experiment\",\"The simulation will accurately predict the parachute's safety level, while an experiment may be inaccurate due to faulty experimental design.\",\"The simulation can test the parachute design in a wide range of environmental conditions that may be difficult to reliably reproduce in an experiment.\"]\n",
    "}\n",
    "\n",
    "def answers(question):\n",
    "    used = []\n",
    "    for i in range(len(questions[question])):\n",
    "        option = random.randint(0,3)\n",
    "        while option in used == True:\n",
    "            option = random.randint(0,3)\n",
    "        used.append(option)\n",
    "        print(questions[question][option])\n",
    "\n",
    "#Q1\n",
    "Q1 = \"A researcher gathers data about the effect of Advanced Placement classes on students' success in college and career, and develops a simulation to show how a sequence of AP classes affect a hypothetical student's pathway.Several school administrators are concerned that the simulation contains bias favoring high-income students, however.\"\n",
    "print(Q1)\n",
    "answers(Q1)\n",
    "solution = input('Please type the answer here, keep in mind the exact capitalization and punctuation as shown.')\n",
    "if solution == \"If the simulation is found to contain bias, then it is not possible to remove the bias from the simulation.\":\n",
    "    correct = correct + 1\n",
    "\n",
    "Q2 = \"Jack is trying to plan his financial future using an online tool. The tool starts off by asking him to input details about his current finances and career. It then lets him choose different future scenarios, such as having children. For each scenario chosen, the tool does some calculations and outputs his projected savings at the ages of 35, 45, and 55.Would that be considered a simulation and why?\"\n",
    "print(Q2)\n",
    "answers(Q2)\n",
    "solution = input('Please type the answer here, keep in mind the exact capitalization and punctuation as shown.')\n",
    "if solution == \"Yes, it's a simulation because it runs on a computer and includes both user input and computed output.\":\n",
    "    correct = correct + 1\n",
    "\n",
    "Q3 = \"Sylvia is an industrial engineer working for a sporting goods company. She is developing a baseball bat that can hit balls with higher accuracy and asks their software engineering team to develop a simulation to verify the design.Which of the following details is most important to include in this simulation?\"\n",
    "print(Q3)\n",
    "answers(Q3)\n",
    "solution = input('Please type the answer here, keep in mind the exact capitalization and punctuation as shown.')\n",
    "if solution == \"Accurate accounting for the effects of wind conditions on the movement of the ball\":\n",
    "    correct = correct + 1\n",
    "\n",
    "Q4 = \"Ashlynn is an industrial engineer who is trying to design a safer parachute. She creates a computer simulation of the parachute opening at different heights and in different environmental conditions.What are advantages of running the simulation versus an actual experiment?\"\n",
    "print(Q4)\n",
    "answers(Q4)\n",
    "solution = input('Please type the answer here, keep in mind the exact capitalization and punctuation as shown.')\n",
    "if solution == \"The simulation can be run more safely than an actual experiment\":\n",
    "    correct = correct + 1\n",
    "elif solution == \"The simulation can test the parachute design in a wide range of environmental conditions that may be difficult to reliably reproduce in an experiment.\":\n",
    "    correct = correct + 1\n",
    "print( \" you scored \" + str(correct) +\"/\" + str(len(questions)))"
   ]
  },
  {
   "attachments": {},
   "cell_type": "markdown",
   "metadata": {},
   "source": [
    "### Hack #6 / Challenge - Taking real life problems and implementing them into code"
   ]
  },
  {
   "attachments": {},
   "cell_type": "markdown",
   "metadata": {},
   "source": [
    "Create your own simulation based on your experiences/knowledge!\n",
    "Be creative! Think about instances in your own life, science, puzzles that can be made into simulations\n",
    "\n",
    "Some ideas to get your brain running: A simulation that breeds two plants and tells you phenotypes of offspring, an adventure simulation..."
   ]
  }
 ],
 "metadata": {
  "kernelspec": {
   "display_name": "Python 3",
   "language": "python",
   "name": "python3"
  },
  "language_info": {
   "codemirror_mode": {
    "name": "ipython",
    "version": 3
   },
   "file_extension": ".py",
   "mimetype": "text/x-python",
   "name": "python",
   "nbconvert_exporter": "python",
   "pygments_lexer": "ipython3",
   "version": "3.8.10"
  },
  "orig_nbformat": 4,
  "vscode": {
   "interpreter": {
    "hash": "916dbcbb3f70747c44a77c7bcd40155683ae19c65e1c03b4aa3499c5328201f1"
   }
  }
 },
 "nbformat": 4,
 "nbformat_minor": 2
}
