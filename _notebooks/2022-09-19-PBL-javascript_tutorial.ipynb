{
 "cells": [
  {
   "cell_type": "markdown",
   "metadata": {},
   "source": [
    "# Submenu\n",
    "- permalink: /kekw/\n",
    "- layout: default\n",
    "- toc: true\n",
    "- badges: true\n",
    "- comments: true\n",
    "- categories: [Jupyter]"
   ]
  },
  {
   "cell_type": "markdown",
   "metadata": {},
   "source": [
    "{% include nav_frontend.html %}"
   ]
  },
  {
   "cell_type": "code",
   "execution_count": null,
   "metadata": {},
   "outputs": [
    {
     "ename": "",
     "evalue": "",
     "output_type": "error",
     "traceback": [
      "\u001b[1;31mFailed to start the Kernel. \n",
      "\u001b[1;31mnode:internal/modules/cjs/loader:1203\n",
      "\u001b[1;31m  return process.dlopen(module, path.toNamespacedPath(filename));\n",
      "\u001b[1;31m                 ^\n",
      "\u001b[1;31m\n",
      "\u001b[1;31mError: The module '/home/colinmills/anaconda3/lib/node_modules/ijavascript/node_modules/zeromq/build/Release/zmq.node'\n",
      "\u001b[1;31mwas compiled against a different Node.js version using\n",
      "\u001b[1;31mNODE_MODULE_VERSION 48. This version of Node.js requires\n",
      "\u001b[1;31mNODE_MODULE_VERSION 108. Please try re-compiling or re-installing\n",
      "\u001b[1;31mthe module (for instance, using `npm rebuild` or `npm install`).\n",
      "\u001b[1;31m    at Module._extensions..node (node:internal/modules/cjs/loader:1203:18)\n",
      "\u001b[1;31m    at Module.load (node:internal/modules/cjs/loader:997:32)\n",
      "\u001b[1;31m    at Module._load (node:internal/modules/cjs/loader:838:12)\n",
      "\u001b[1;31m    at Module.require (node:internal/modules/cjs/loader:1021:19)\n",
      "\u001b[1;31m    at require (node:internal/modules/cjs/helpers:103:18)\n",
      "\u001b[1;31m    at load (/home/colinmills/anaconda3/lib/node_modules/ijavascript/node_modules/node-gyp-build/index.js:22:10)\n",
      "\u001b[1;31m    at Object.<anonymous> (/home/colinmills/anaconda3/lib/node_modules/ijavascript/node_modules/zeromq/binding.js:1:43)\n",
      "\u001b[1;31m    at Module._compile (node:internal/modules/cjs/loader:1119:14)\n",
      "\u001b[1;31m    at Module._extensions..js (node:internal/modules/cjs/loader:1173:10)\n",
      "\u001b[1;31m    at Module.load (node:internal/modules/cjs/loader:997:32) {\n",
      "\u001b[1;31m  code: 'ERR_DLOPEN_FAILED'\n",
      "\u001b[1;31m}\n",
      "\u001b[1;31m\n",
      "\u001b[1;31mNode.js v18.9.0. \n",
      "\u001b[1;31mView Jupyter <a href='command:jupyter.viewOutput'>log</a> for further details."
     ]
    }
   ],
   "source": [
    "const request = require('request');\n",
    "\n",
    "const options = {\n",
    "  method: 'GET',\n",
    "  url: 'https://burgers1.p.rapidapi.com/burgers',\n",
    "  headers: {\n",
    "    'X-RapidAPI-Key': 'ea2de0ecb0mshbe614a83d8b9057p1a6503jsn18142cf52431',\n",
    "    'X-RapidAPI-Host': 'burgers1.p.rapidapi.com',\n",
    "    useQueryString: true\n",
    "  }\n",
    "};\n",
    "\n",
    "request(options, function (error, response, body) {\n",
    "\tif (error) throw new Error(error);\n",
    "\n",
    "\tconsole.log(body);\n",
    "});\n"
   ]
  }
 ],
 "metadata": {
  "kernelspec": {
   "display_name": "JavaScript (Node.js)",
   "language": "javascript",
   "name": "javascript"
  },
  "language_info": {
   "file_extension": ".js",
   "mimetype": "application/javascript",
   "name": "javascript",
   "version": "10.13.0"
  },
  "vscode": {
   "interpreter": {
    "hash": "aee8b7b246df8f9039afb4144a1f6fd8d2ca17a180786b69acc140d282b71a49"
   }
  }
 },
 "nbformat": 4,
 "nbformat_minor": 2
}
