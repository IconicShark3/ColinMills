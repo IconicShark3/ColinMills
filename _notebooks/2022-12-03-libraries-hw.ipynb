{
 "cells": [
  {
   "attachments": {},
   "cell_type": "markdown",
   "metadata": {},
   "source": [
    "# Unit 3 Sections 14-15 Homework\n",
    "> Here are the instructions for the homework for sections 14-15.\n",
    "\n",
    "- toc: true\n",
    "- comments: true\n",
    "- categories: [Week-13,Big-Idea-3]\n",
    "- image: /images/college-board-logo.png"
   ]
  },
  {
   "attachments": {},
   "cell_type": "markdown",
   "metadata": {},
   "source": [
    "Create a program that asks the user for a day and then gives them a distance in days between that day and another random day in the year. We have provided you with a possible starter, but you are welcome to change it up if you would like."
   ]
  },
  {
   "cell_type": "code",
   "execution_count": 2,
   "metadata": {},
   "outputs": [
    {
     "name": "stdout",
     "output_type": "stream",
     "text": [
      "Input a day\n",
      "13\n",
      "Input a month\n",
      "7\n",
      "Input a year\n",
      "2010\n",
      "user day: 07/13/2010\n",
      "random day: 09/11/2010\n",
      "The number of days between the given range of dates is: 60\n"
     ]
    }
   ],
   "source": [
    "from datetime import date\n",
    "import random\n",
    "\n",
    "days_dictionary = {\n",
    "    1: 31,\n",
    "    2: 28,\n",
    "    3: 31,\n",
    "    4: 30,\n",
    "    5: 31,\n",
    "    6: 30,\n",
    "    7: 31,\n",
    "    8: 31,\n",
    "    9: 30,\n",
    "    10: 31,\n",
    "    11: 30,\n",
    "    12: 31,\n",
    "}\n",
    "\n",
    "# expected output shown below (or something similar)"
   ]
  },
  {
   "attachments": {},
   "cell_type": "markdown",
   "metadata": {},
   "source": [
    "Input a day\n",
    "13\n",
    "Input a month\n",
    "7\n",
    "Input a year\n",
    "2010\n",
    "user day: 07/13/2010\n",
    "random day: 09/11/2010\n",
    "The number of days between the given range of dates is: 60"
   ]
  }
 ],
 "metadata": {
  "kernelspec": {
   "display_name": "base",
   "language": "python",
   "name": "python3"
  },
  "language_info": {
   "codemirror_mode": {
    "name": "ipython",
    "version": 3
   },
   "file_extension": ".py",
   "mimetype": "text/x-python",
   "name": "python",
   "nbconvert_exporter": "python",
   "pygments_lexer": "ipython3",
   "version": "3.9.12 (main, Apr  5 2022, 06:56:58) \n[GCC 7.5.0]"
  },
  "orig_nbformat": 4,
  "vscode": {
   "interpreter": {
    "hash": "e9b9a3e75ca6fe8698b217f7d02bed86aa7c51e8d45c2c5f430d4f3a3a1183ab"
   }
  }
 },
 "nbformat": 4,
 "nbformat_minor": 2
}
