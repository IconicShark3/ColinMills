{
 "cells": [
  {
   "cell_type": "code",
   "execution_count": 2,
   "metadata": {},
   "outputs": [
    {
     "name": "stdout",
     "output_type": "stream",
     "text": [
      "4\n"
     ]
    }
   ],
   "source": [
    "list = [1,3,5,2,8,4,7,6,9,0]\n",
    "\n",
    "pivot = list[len(list)//2]\n",
    "print(pivot)\n",
    "newlist = []\n",
    "for i in range(len(list)):\n",
    "    if list[i] < pivot:\n",
    "        newlist[i] = list[i]\n",
    "    elif list[i] = pivot:\n",
    "        newlist[i] = list[i]\n",
    "    elif list[i] < pivot:\n",
    "        newlist[i] = list[i]"
   ]
  }
 ],
 "metadata": {
  "kernelspec": {
   "display_name": "base",
   "language": "python",
   "name": "python3"
  },
  "language_info": {
   "codemirror_mode": {
    "name": "ipython",
    "version": 3
   },
   "file_extension": ".py",
   "mimetype": "text/x-python",
   "name": "python",
   "nbconvert_exporter": "python",
   "pygments_lexer": "ipython3",
   "version": "3.9.12"
  },
  "orig_nbformat": 4
 },
 "nbformat": 4,
 "nbformat_minor": 2
}
