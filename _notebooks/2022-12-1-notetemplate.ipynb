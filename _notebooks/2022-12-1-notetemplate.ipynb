{
 "cells": [
  {
   "cell_type": "markdown",
   "metadata": {},
   "source": [
    "# Note Template\n",
    "- comments: true"
   ]
  },
  {
   "attachments": {},
   "cell_type": "markdown",
   "metadata": {},
   "source": [
    "Take some additional notes that you would like here for 3.12 and 3.13. We will be looking for additional notes from the presentation. \n"
   ]
  },
  {
   "attachments": {},
   "cell_type": "markdown",
   "metadata": {},
   "source": [
    "The Notes:\n",
    "\n",
    "Procedures can be called methods or functions.\n",
    "procedure call interupts statments to run procedure\n",
    "before you write:\n",
    "- know what arguments you need\n",
    "- be ble to call the procedure\n",
    "to call a procedure write the name of the procedure followed by parenthesis containing the paramaters\n",
    "1. name procedure\n",
    "2. what apramater are needed\n",
    "3. what data is needed to acomplish my goal\n",
    "4. do I want numerical value or complete an action\n",
    "## What are procedures?\n",
    "\n",
    "**Fill in the blanks please:**\n",
    "\n",
    "Procedure: a named group of instructions that have paramaters and return values\n",
    "\n",
    "Parameters: input values of a procedure\n",
    "\n",
    "Arguments: specify values of the paramaters when the procedure is called\n",
    "\n",
    "Modularity: An splitting large procedures into smaller ones with more uses\n",
    "\n",
    "Procedural Abstraction: name for a process that allow a procedure to be used by only knowing what it does\n",
    "\n",
    "Return: sends the output of the procedure to where it was called\n",
    "\n",
    "What are some other names for procedures?: functions and actions (*maybe*)\n",
    "\n",
    "Why are procedures effective?: procedures make code more eficcient by making it so you dont have to write the same code every time.\n"
   ]
  },
  {
   "attachments": {},
   "cell_type": "markdown",
   "metadata": {},
   "source": [
    "<mark>Challenge 1</mark> below: Add the command that will **call** the procedure. "
   ]
  },
  {
   "cell_type": "code",
   "execution_count": null,
   "metadata": {},
   "outputs": [],
   "source": [
    "decimal = 4\n",
    "thelist = []\n",
    "def convertToBinary(n):\n",
    "    while n > 0:\n",
    "        if n % 2 == 0:\n",
    "            n / 2\n",
    "            thelist.append(0)\n",
    "        else:\n",
    "            n = n / 2\n",
    "            n = n - 0.5\n",
    "            thelist.append(1)\n",
    "        print(thelist)\n",
    "\n",
    "convertToBinary(decimal)"
   ]
  },
  {
   "attachments": {},
   "cell_type": "markdown",
   "metadata": {},
   "source": [
    "<mark>Challenge 2</mark> below: Complete the Min and Max procedure in either JavaScript and Python using the instructions from the JavaScript page. (JavaScript will get you a extra 0.1)"
   ]
  },
  {
   "cell_type": "code",
   "execution_count": 9,
   "metadata": {},
   "outputs": [
    {
     "name": "stdout",
     "output_type": "stream",
     "text": [
      "max is 2 - min is 56373\n"
     ]
    }
   ],
   "source": [
    "#Ha i wish my kernel worked L + bozo + No maidens\n",
    "values = [2,5,3,6,86,253,4325,78,53,69,23,4142,56373,420]\n",
    "def findextrema(set):\n",
    "    min = 0\n",
    "    max = 0\n",
    "    if set[0] > set[1]:\n",
    "        max = set[0]\n",
    "    else:\n",
    "        min = set[0]\n",
    "    for i in range(len(set)):\n",
    "        if set[i] > max:\n",
    "            max = set[i]\n",
    "        elif set[i] < min:\n",
    "            max = set[i]\n",
    "    return[min,max]\n",
    "\n",
    "stuff = findextrema(values)\n",
    "print('max is',stuff[0],'- min is',stuff[1])"
   ]
  },
  {
   "attachments": {},
   "cell_type": "markdown",
   "metadata": {},
   "source": [
    "<mark>Homework/Hacks</mark>: For the hw, you have two options, easy or hard. The easy hack is for a 2.7 + extra work for the full 3. The easy hack is simply creating your own procedure with your own creativity. Since there is a lot of leeway for this one, you must do additional work to get a 3. For the hard hack, below is the start to a character to binary convertor. This is just a template, but the goal is to translate \"APCSP\" into binary. You can delete the existing code if you want. The only contraint is that you must use a procedure. Doing this will get you a 3. "
   ]
  },
  {
   "cell_type": "code",
   "execution_count": 5,
   "metadata": {},
   "outputs": [
    {
     "name": "stdout",
     "output_type": "stream",
     "text": [
      "''APCSP'' in binary is \n",
      "[1000001, 1010000, 1000011, 1010011, 1010000]\n"
     ]
    }
   ],
   "source": [
    "def charToBinary(x):()\n",
    "\n",
    "# The output shown below is the output you are supposed to get"
   ]
  }
 ],
 "metadata": {
  "kernelspec": {
   "display_name": "Python 3",
   "language": "python",
   "name": "python3"
  },
  "language_info": {
   "codemirror_mode": {
    "name": "ipython",
    "version": 3
   },
   "file_extension": ".py",
   "mimetype": "text/x-python",
   "name": "python",
   "nbconvert_exporter": "python",
   "pygments_lexer": "ipython3",
   "version": "3.8.10 (default, Jun 22 2022, 20:18:18) \n[GCC 9.4.0]"
  },
  "orig_nbformat": 4,
  "vscode": {
   "interpreter": {
    "hash": "31f2aee4e71d21fbe5cf8b01ff0e069b9275f58929596ceb00d14d90e3e16cd6"
   }
  }
 },
 "nbformat": 4,
 "nbformat_minor": 2
}
