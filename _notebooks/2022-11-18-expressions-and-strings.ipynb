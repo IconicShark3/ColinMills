{
 "cells": [
  {
   "cell_type": "markdown",
   "metadata": {},
   "source": [
    "# Big idea 3!\n",
    "> Lesson on Big Idea 3 which includes expressions, strings, psuedocode, and more!\n",
    "\n",
    "- toc: true\n",
    "- comments: true\n",
    "- categories: [Week-13,Big-Idea-3]"
   ]
  },
  {
   "cell_type": "markdown",
   "metadata": {},
   "source": [
    "## 3.3 Expressions(Show video 1 and 3)  "
   ]
  },
  {
   "cell_type": "markdown",
   "metadata": {},
   "source": [
    "### Vocab: fill in the blanks  \n",
    "  \n",
    "the symbol for exponent is **  \n",
    "the symbol for addition is ____  \n",
    "the symbol for subtraction is ____  \n",
    "the symbol for multiplication is ____  \n",
    "the symbol for division is ____  \n",
    "the symbol for modulus is ____  \n",
    "an algorithm is ___  "
   ]
  },
  {
   "cell_type": "markdown",
   "metadata": {},
   "source": [
    "Sequencing Practice: the code below does not follow the intended steps below. change the code so that it does so.\n",
    "1. divide value1 by 10(value1 = 5)  \n",
    "2. multiply 2 from the result of the step 1  \n",
    "3. subtract 4 from the result of the step 2\n",
    "4. print the result of step 3"
   ]
  },
  {
   "cell_type": "code",
   "execution_count": 9,
   "metadata": {},
   "outputs": [
    {
     "name": "stdout",
     "output_type": "stream",
     "text": [
      "-3\n"
     ]
    }
   ],
   "source": [
    "value1 = 5\n",
    "value2 = value1 / 10 #step 1\n",
    "value3 = value2 * 2 #step 2\n",
    "value4 = value3 - 4 #step 3\n",
    "print(int(value4))"
   ]
  },
  {
   "cell_type": "markdown",
   "metadata": {},
   "source": [
    "Selection/Iteration Practice: Create a function to print ONLY the numbers of numlist that are divisble by 3.  \n",
    "Hint: use the MOD operator (a % b) to find the remainder when a is divided by b."
   ]
  },
  {
   "cell_type": "code",
   "execution_count": 14,
   "metadata": {},
   "outputs": [
    {
     "name": "stdout",
     "output_type": "stream",
     "text": [
      "3 is divisible by 3\n",
      "9 is divisible by 3\n",
      "891 is divisible by 3\n"
     ]
    }
   ],
   "source": [
    "numlist = \"3\",\"4\",\"9\",\"76\",\"891\"\n",
    "for l in range(len(numlist)):\n",
    "    if int(numlist[l]) % 3 == 0:\n",
    "        print( numlist[l] + \" is divisible by 3\")\n",
    "        continue\n",
    "    else:\n",
    "        continue\n",
    "            "
   ]
  },
  {
   "cell_type": "markdown",
   "metadata": {},
   "source": [
    "Homework/Binary Adaptation: Create a python function that will convert a decimal number 1-255 to binary using mathematical operations and powers of 2. Challenge: add frontend with javascript or html."
   ]
  },
  {
   "cell_type": "code",
   "execution_count": 27,
   "metadata": {},
   "outputs": [
    {
     "name": "stdout",
     "output_type": "stream",
     "text": [
      "[0, 0, 0, 0, 0, 0, 0, 0, 0, 0, 0, 0, 0, 0, 0, 0, 0, 0, 0, 0, 0, 0, 0, 0, 0, 0, 0, 0, 0, 0, 0, 0, 0, 0, 0, 0, 0, 0, 0, 0, 0, 0, 0, 0, 0, 0, 0, 0, 0, 0, 0, 0, 0, 0, 0, 0, 0, 0, 0, 0, 0, 0, 0, 0, 0, 0, 0, 0, 0, 0, 0, 0, 0, 0, 0, 0, 0, 0, 0, 0, 0, 0, 0, 0, 0, 0, 0, 0, 0, 0, 0, 0, 0, 0, 0, 0, 0, 0, 0, 0, 0, 0, 0, 0, 0, 0, 0, 0, 0, 0, 0, 0, 0, 0, 0, 0, 0, 0, 0, 0, 0, 0, 0, 0, 0, 0, 0, 0, 0, 0, 0, 0, 0, 0, 0, 0, 0, 0, 0, 0, 0, 0, 0, 0, 0, 0, 0, 0, 0, 0, 0, 0, 0, 0, 0, 0, 0, 0, 0, 0, 0, 0, 0, 0, 0, 0, 1, 1, 0, 0, 1, 0, 1, 0, 0, 0, 0, 0, 1, 0, 0, 0, 0, 0, 1, 0, 1, 0, 0, 1, 0, 1, 0, 1, 0, 1, 0, 1, 0, 0, 1, 0, 0, 0, 0, 1, 1, 0, 1, 1, 1, 1, 1, 1, 0, 0, 0, 1, 1]\n",
      "218\n",
      "110001111110110000100101010101001010000010000010100110000000000000000000000000000000000000000000000000000000000000000000000000000000000000000000000000000000000000000000000000000000000000000000000000000000000000000000000\n"
     ]
    }
   ],
   "source": [
    "def convert(temp):\n",
    "    value = [\n",
    "\n",
    "    ]\n",
    "    temp = float(temp)\n",
    "    i = 0\n",
    "    while temp > 0:\n",
    "        if temp % 2 == 0:\n",
    "            value.append(0)\n",
    "            temp = temp / 2\n",
    "        else:\n",
    "            value.append(1)\n",
    "            temp = temp /2\n",
    "            temp = temp - 0.5\n",
    "        i = i + 1\n",
    "    final = \"\"\n",
    "    x = len(value) - 1\n",
    "    print(value)\n",
    "    print(x)\n",
    "    while x >= 0:\n",
    "        final = final + str(value[x])\n",
    "        x = x - 1\n",
    "    print(final)\n",
    "        \n",
    "ssalcsihtetahi = input(\"Insert a number 255 or below.\")\n",
    "convert(ssalcsihtetahi)"
   ]
  },
  {
   "cell_type": "markdown",
   "metadata": {},
   "source": [
    "## 3.4 Strings(Show video 1)"
   ]
  },
  {
   "cell_type": "markdown",
   "metadata": {},
   "source": [
    "### Vocab: fill in the blanks using the video\n",
    "Index is a number representing a position, like a character's position in a string or a string's position in a list.  \n",
    "Concatenation is ______  \n",
    "Length is ____  \n",
    "A substring is _______  "
   ]
  },
  {
   "cell_type": "markdown",
   "metadata": {},
   "source": [
    "### What is psuedocode?\n",
    "Pseudocode is writing out a program in plain language with keywords that are used to refer to common coding concepts.\n",
    "\n",
    "Can you think of some benefits of using pseudocode prior to writing out the actual code?\n",
    "\n",
    "1. Choose an everyday activity\n",
    "2. Imagine that you are providing instructions for this activity to a person who has never done it before\n",
    "3. Challenge someone to do the steps you wrote out\n",
    "\n",
    "Ex. Brushing Teeth\n",
    "\n",
    "1. Pick up your toothbrush\n",
    "2. Rinse toothbrush\n",
    "3. Pick up toothpaste\n",
    "4. Place toothpaste on the toothbrush\n",
    "5. Rinse toothbrush again\n",
    "6. Brush teeth in a circular motion\n",
    "7. Spit\n",
    "8. Wash mouth \n",
    "9. Rinse toothbrush\n",
    "10. You have brushed your teeth!"
   ]
  },
  {
   "cell_type": "markdown",
   "metadata": {},
   "source": [
    "### Substring/Length Practice: change the print functions to print \"hello\", \"bye\", and the string length"
   ]
  },
  {
   "cell_type": "code",
   "execution_count": 28,
   "metadata": {},
   "outputs": [
    {
     "name": "stdout",
     "output_type": "stream",
     "text": [
      "hello\n",
      "bye\n",
      "8\n"
     ]
    }
   ],
   "source": [
    "#substring = string[start:end] \n",
    "#the substring will have the characters including the index \"start\" to the character BEFORE the index \"end\"\n",
    "#len(string) will print the length of string\n",
    "\n",
    "string = \"hellobye\"\n",
    "x = string[0:5]\n",
    "y = string[5:8]\n",
    "z = len(string)\n",
    "print(x)\n",
    "print(y)\n",
    "print(str(z))"
   ]
  },
  {
   "cell_type": "markdown",
   "metadata": {},
   "source": [
    "Concatenation Practice: combine string1 and string2 to make string3, then print string3."
   ]
  },
  {
   "cell_type": "code",
   "execution_count": 27,
   "metadata": {},
   "outputs": [
    {
     "name": "stdout",
     "output_type": "stream",
     "text": [
      "computer science\n"
     ]
    }
   ],
   "source": [
    "#string1 + string2 will add string2 to the end of string1\n",
    "\n",
    "string1 = \"computer\"\n",
    "string2 = \"science\"\n",
    "string3 = string1 + \" \" + string2\n",
    "print(string3)"
   ]
  },
  {
   "cell_type": "markdown",
   "metadata": {},
   "source": [
    "Homework/List Adaptation: create a function that prints the name of each string in the list and the string's length. Challenge: add frontend with javascript or html."
   ]
  },
  {
   "cell_type": "code",
   "execution_count": 29,
   "metadata": {},
   "outputs": [
    {
     "name": "stdout",
     "output_type": "stream",
     "text": [
      "jaden\n",
      "5\n",
      "max\n",
      "3\n",
      "dylan\n",
      "5\n",
      "orlando\n",
      "7\n"
     ]
    }
   ],
   "source": [
    "names = [\"jaden\",\"max\",\"dylan\",\"orlando\"]\n",
    "\n",
    "def length(list):\n",
    "    for i in range(len(names)):\n",
    "        print(names[i])\n",
    "        print(len(names[i]))\n",
    "\n",
    "length(names)\n"
   ]
  },
  {
   "cell_type": "markdown",
   "metadata": {},
   "source": [
    "# Stuck? \n",
    "- Check out [what we did.](https://raisinbran25.github.io/csp2/2022/11/18/expressions.html)"
   ]
  },
  {
   "cell_type": "markdown",
   "metadata": {},
   "source": [
    "# Have any questions?\n",
    "- Ask us if you have any questions!"
   ]
  }
 ],
 "metadata": {
  "kernelspec": {
   "display_name": "Python 3.9.12 ('base')",
   "language": "python",
   "name": "python3"
  },
  "language_info": {
   "codemirror_mode": {
    "name": "ipython",
    "version": 3
   },
   "file_extension": ".py",
   "mimetype": "text/x-python",
   "name": "python",
   "nbconvert_exporter": "python",
   "pygments_lexer": "ipython3",
   "version": "3.9.12"
  },
  "orig_nbformat": 4,
  "vscode": {
   "interpreter": {
    "hash": "e9b9a3e75ca6fe8698b217f7d02bed86aa7c51e8d45c2c5f430d4f3a3a1183ab"
   }
  }
 },
 "nbformat": 4,
 "nbformat_minor": 2
}
