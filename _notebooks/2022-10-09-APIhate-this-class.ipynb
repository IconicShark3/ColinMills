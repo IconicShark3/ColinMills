{
 "cells": [
  {
   "cell_type": "markdown",
   "metadata": {},
   "source": [
    "# API STUFF"
   ]
  },
  {
   "cell_type": "code",
   "execution_count": null,
   "metadata": {},
   "outputs": [],
   "source": [
    "import requests\n",
    "import PIL\n",
    "from PIL import Image\n",
    "import urllib.request\n",
    "\n",
    "url = \"https://programming-memes-reddit.p.rapidapi.com/\"\n",
    "\n",
    "headers = {\n",
    "    \"X-RapidAPI-Key\": \"721c8e8789msh4f6199095fcff35p13f037jsnc1e7998c8457\",\n",
    "    \"X-RapidAPI-Host\": \"programming-memes-reddit.p.rapidapi.com\"\n",
    "}\n",
    "\n",
    "response = requests.request(\"GET\", url, headers=headers)\n",
    "js = response.json()\n",
    "ind = 0\n",
    "for r in js:\n",
    "    if ind > 10:\n",
    "        break\n",
    "    urllib.request.urlretrieve(r['link'],\"img.png\")\n",
    "    img = Image.open('img.png')\n",
    "    display(img)\n",
    "    ind += 1\n",
    "https://rapidapi.com/60vibhavsurve/api/programming-memes-reddit/"
   ]
  }
 ],
 "metadata": {
  "kernelspec": {
   "display_name": "Python 3.9.12 ('base')",
   "language": "python",
   "name": "python3"
  },
  "language_info": {
   "name": "python",
   "version": "3.9.12"
  },
  "orig_nbformat": 4,
  "vscode": {
   "interpreter": {
    "hash": "e9b9a3e75ca6fe8698b217f7d02bed86aa7c51e8d45c2c5f430d4f3a3a1183ab"
   }
  }
 },
 "nbformat": 4,
 "nbformat_minor": 2
}
