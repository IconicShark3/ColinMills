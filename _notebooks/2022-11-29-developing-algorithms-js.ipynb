{
 "cells": [
  {
   "cell_type": "markdown",
   "metadata": {},
   "source": [
    "# Developing Algorithms (JavaScript)\n",
    "\n",
    "- toc: true \n",
    "- badges: true\n",
    "- comments: true"
   ]
  },
  {
   "cell_type": "markdown",
   "metadata": {},
   "source": [
    "# Review\n",
    "\n",
    "## if-else statements\n",
    "\n",
    "Syntax: \n",
    "\n",
    "```\n",
    "if (condition) {\n",
    "\n",
    "} else if (condition 2) {\n",
    "    \n",
    "} else {\n",
    "    \n",
    "}\n",
    "```\n",
    "\n",
    "## for loops \n",
    "\n",
    "<pre>\n",
    "for (let i = <em>number</em>; i < <em>number</em>; i++) {\n",
    "    // code\n",
    "}\n",
    "</pre>"
   ]
  },
  {
   "cell_type": "markdown",
   "metadata": {},
   "source": [
    "# Conditionals vs Booleans\n",
    "\n",
    "Conditionals and booleans can be equivalent. \n",
    "\n",
    "For example, let's say there are two booleans: `rainy` and `sunny`. \n",
    "\n",
    "Let's look at the following code: "
   ]
  },
  {
   "cell_type": "code",
   "execution_count": null,
   "metadata": {
    "vscode": {
     "languageId": "javascript"
    }
   },
   "outputs": [],
   "source": [
    "sunny = true; \n",
    "rainy = false; "
   ]
  },
  {
   "cell_type": "code",
   "execution_count": null,
   "metadata": {
    "vscode": {
     "languageId": "javascript"
    }
   },
   "outputs": [
    {
     "ename": "",
     "evalue": "",
     "output_type": "error",
     "traceback": [
      "\u001b[1;31mFailed to start the Kernel. \n",
      "\u001b[1;31mnode:internal/modules/cjs/loader:1203\n",
      "\u001b[1;31m  return process.dlopen(module, path.toNamespacedPath(filename));\n",
      "\u001b[1;31m                 ^\n",
      "\u001b[1;31m\n",
      "\u001b[1;31mError: The module '/home/colinmills/anaconda3/lib/node_modules/ijavascript/node_modules/zeromq/build/Release/zmq.node'\n",
      "\u001b[1;31mwas compiled against a different Node.js version using\n",
      "\u001b[1;31mNODE_MODULE_VERSION 48. This version of Node.js requires\n",
      "\u001b[1;31mNODE_MODULE_VERSION 108. Please try re-compiling or re-installing\n",
      "\u001b[1;31mthe module (for instance, using `npm rebuild` or `npm install`).\n",
      "\u001b[1;31m    at Module._extensions..node (node:internal/modules/cjs/loader:1203:18)\n",
      "\u001b[1;31m    at Module.load (node:internal/modules/cjs/loader:997:32)\n",
      "\u001b[1;31m    at Module._load (node:internal/modules/cjs/loader:838:12)\n",
      "\u001b[1;31m    at Module.require (node:internal/modules/cjs/loader:1021:19)\n",
      "\u001b[1;31m    at require (node:internal/modules/cjs/helpers:103:18)\n",
      "\u001b[1;31m    at load (/home/colinmills/anaconda3/lib/node_modules/ijavascript/node_modules/node-gyp-build/index.js:22:10)\n",
      "\u001b[1;31m    at Object.<anonymous> (/home/colinmills/anaconda3/lib/node_modules/ijavascript/node_modules/zeromq/binding.js:1:43)\n",
      "\u001b[1;31m    at Module._compile (node:internal/modules/cjs/loader:1119:14)\n",
      "\u001b[1;31m    at Module._extensions..js (node:internal/modules/cjs/loader:1173:10)\n",
      "\u001b[1;31m    at Module.load (node:internal/modules/cjs/loader:997:32) {\n",
      "\u001b[1;31m  code: 'ERR_DLOPEN_FAILED'\n",
      "\u001b[1;31m}\n",
      "\u001b[1;31m\n",
      "\u001b[1;31mNode.js v18.9.0. \n",
      "\u001b[1;31mView Jupyter <a href='command:jupyter.viewOutput'>log</a> for further details."
     ]
    }
   ],
   "source": [
    "if (sunny) {\n",
    "    umbrella = false; \n",
    "} else if (rainy) {\n",
    "    umbrella = true; \n",
    "} else {\n",
    "    umbrella = false; \n",
    "}\n",
    "\n",
    "console.log(umbrella); "
   ]
  },
  {
   "cell_type": "markdown",
   "metadata": {},
   "source": [
    "The code above is the same as below: "
   ]
  },
  {
   "cell_type": "code",
   "execution_count": 19,
   "metadata": {
    "vscode": {
     "languageId": "javascript"
    }
   },
   "outputs": [
    {
     "name": "stdout",
     "output_type": "stream",
     "text": [
      "false\n"
     ]
    }
   ],
   "source": [
    "umbrella = !sunny && rainy;\n",
    "\n",
    "console.log(umbrella); "
   ]
  },
  {
   "cell_type": "markdown",
   "metadata": {},
   "source": [
    "To determine if two conditionals and booleans are the same, you can substitute the four possibilities that the two booleans (sunny and rainy) can be (listed below) into the conditional and boolean and see if both cases match: \n",
    "\n",
    "`sunny = true`, `rainy = true`\n",
    "\n",
    "`sunny = true`, `rainy = false`\n",
    "\n",
    "`sunny = false`, `rainy = true`\n",
    "\n",
    "`sunny = false`, `rainy = false`\n",
    "\n"
   ]
  },
  {
   "cell_type": "markdown",
   "metadata": {},
   "source": [
    "# Challenge \n",
    "\n",
    "Using JavaScript, create an algorithm that takes in an IP address and a subnet mask and computes the network address.\n",
    "\n",
    "## Overview\n",
    "\n",
    "As we've seen in Unit 4.1, an IP address is a 32 bit number that uniquely identifies each device. (See [this](https://apclassroom.collegeboard.org/103/home?apd=n5rz22pu2h&unit=4) for a recap). Something extra is that an IP address also comes with a subnet mask. A subnet mask is also a 32 bit number that identifies what network an IP address in in through a process that uses the bitwise AND.\n",
    "\n",
    "In ANDing: \n",
    "\n",
    "0 + 0 = 0\n",
    "\n",
    "0 + 1 = 0 \n",
    "\n",
    "1 + 0 = 0\n",
    "\n",
    "1 + 1 = 1\n",
    "\n",
    "<br>\n",
    "The following are the steps to determine the network that an IP address is in given the subnet mask:\n",
    "\n",
    "Example: IP address: 192.168.0.1\n",
    "\n",
    "Subnet mask: 255.255.255.0\n",
    "\n",
    "1. Convert the IP address into binary: 192.168.0.1 -> 11000000.10101000.00000000.00000001\n",
    "2. Convert the subnet mask into binary: 255.255.255.0 -> 11111111.11111111.11111111.00000000\n",
    "3. Do a bitwise AND operation on the binary IP address and subnet mask: \n",
    "\n",
    "```\n",
    " 11000000.10101000.00000000.00000001\n",
    "+11111111.11111111.11111111.00000000\n",
    "=11000000.10101000.00000000.00000000\n",
    "```\n",
    "4. Convert the result back to decimal: 11000000.10101000.00000000.00000000 -> 192.168.0.0\n",
    "\n",
    "The network address is `192.168.0.0`\n"
   ]
  }
 ],
 "metadata": {
  "kernelspec": {
   "display_name": "Python 3",
   "language": "python",
   "name": "python3"
  },
  "language_info": {
   "file_extension": ".js",
   "mimetype": "application/javascript",
   "name": "python",
   "version": "3.8.10 (default, Jun 22 2022, 20:18:18) \n[GCC 9.4.0]"
  },
  "orig_nbformat": 4,
  "vscode": {
   "interpreter": {
    "hash": "916dbcbb3f70747c44a77c7bcd40155683ae19c65e1c03b4aa3499c5328201f1"
   }
  }
 },
 "nbformat": 4,
 "nbformat_minor": 2
}
