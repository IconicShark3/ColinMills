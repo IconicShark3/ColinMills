{
 "cells": [
  {
   "cell_type": "markdown",
   "metadata": {},
   "source": [
    "# Homework \n",
    "\n",
    "- toc: true\n",
    "- title: Homework 5-7 \n",
    "- badges: true\n",
    "- comments: true\n",
    "- categories: [Week 13]"
   ]
  },
  {
   "cell_type": "markdown",
   "metadata": {},
   "source": [
    "## Homework/Hacks\n",
    "\n",
    " our homework we have decided for a decimal number to binary converter. You must use conditional statements within your code and have a input box for where the decimal number will go. This will give you a 2.7 out of 3 and you may add anything else to the code to get above a 2.7.\n",
    "\n"
   ]
  },
  {
   "cell_type": "markdown",
   "metadata": {},
   "source": [
    "Below is an example of decimal number to binary converter which you can use as a starting template."
   ]
  },
  {
   "cell_type": "code",
   "execution_count": 1,
   "metadata": {},
   "outputs": [
    {
     "name": "stdout",
     "output_type": "stream",
     "text": [
      "Binary of num 67 is: 1000011\n"
     ]
    }
   ],
   "source": [
    "def DecimalToBinary(num):\n",
    "    strs = \"\"\n",
    "    while num:\n",
    "        # if (num & 1) = 1\n",
    "        if (num & 1):\n",
    "            strs += \"1\"\n",
    "        # if (num & 1) = 0\n",
    "        else:\n",
    "            strs += \"0\"\n",
    "        # right shift by 1\n",
    "        num >>= 1\n",
    "    return strs\n",
    " \n",
    "# function to reverse the string\n",
    "def reverse(strs):\n",
    "    print(strs[::-1])\n",
    " \n",
    "# Driver Code\n",
    "num = 67\n",
    "print(\"Binary of num 67 is:\", end=\" \")\n",
    "reverse(DecimalToBinary(num))"
   ]
  },
  {
   "cell_type": "markdown",
   "metadata": {},
   "source": [
    "## Notes\n",
    "- Inequalities are normal (= is after <> things for equal/less than) (!= is unequal)\n",
    "- boolen is similar to binary, its just true or false\n",
    "- operators\n",
    "- conditions affects the flow of a program and can alow things only when a requirement is met\n",
    "- if/else or if/elif/else\n",
    "- nested conditionals are conditionals within a conditional\n",
    "- "
   ]
  },
  {
   "cell_type": "code",
   "execution_count": 14,
   "metadata": {},
   "outputs": [
    {
     "name": "stdout",
     "output_type": "stream",
     "text": [
      "True: True\n",
      "True: True\n",
      "False: False\n",
      "True: True\n",
      "False: False\n",
      "True: True\n",
      "why is this empty?\n",
      "True: True\n",
      "False: False\n",
      "False: False\n",
      "True: True\n",
      "False: False\n",
      "True: True\n",
      "why is this empty too?\n"
     ]
    }
   ],
   "source": [
    "print(\"True:\",4 == 4)\n",
    "print(\"True:\",1 != 0)\n",
    "print(\"False:\",7 == 3)\n",
    "print(\"True:\",5 != 6)\n",
    "print(\"False:\",7 == 8)\n",
    "print(\"True:\",3 == 3)\n",
    "print('why is this empty?')\n",
    "\n",
    "# Same as above, but now for other values other than int\n",
    "print('True:',\"as\"==\"as\")\n",
    "print(\"False:\",True == False)\n",
    "print(\"False:\",[2,3,1]!=[2,3,1])\n",
    "print(\"True:\",'af'!='bc')\n",
    "print(\"False:\",'ce'=='cf')\n",
    "print(\"True:\",[1,'b']!=[1,'a'])\n",
    "print('why is this empty too?')"
   ]
  },
  {
   "cell_type": "code",
   "execution_count": 13,
   "metadata": {},
   "outputs": [
    {
     "name": "stdout",
     "output_type": "stream",
     "text": [
      "True: True\n",
      "False: False\n",
      "True: True\n",
      "False: False\n",
      "False: False\n",
      "True: True\n"
     ]
    }
   ],
   "source": [
    "print(\"True:\", True or False)\n",
    "print(\"False:\", not True)\n",
    "print(\"True:\", True and True)\n",
    "print(\"False:\",  not True)\n",
    "print(\"False:\", True and False)\n",
    "print(\"True:\",  not False)"
   ]
  },
  {
   "cell_type": "code",
   "execution_count": null,
   "metadata": {},
   "outputs": [],
   "source": [
    "print( 3 3 4 6 5 7)"
   ]
  },
  {
   "cell_type": "code",
   "execution_count": 23,
   "metadata": {},
   "outputs": [
    {
     "name": "stdout",
     "output_type": "stream",
     "text": [
      "not 5\n",
      "not less than 3\n",
      "greater than 3\n"
     ]
    }
   ],
   "source": [
    "number = 7\n",
    "if number == 5: \n",
    "    print(\"5\")\n",
    "else: \n",
    "    print(\"not 5\")\n",
    "    if number <= 3: \n",
    "        print(\"less than 3\")\n",
    "    else: \n",
    "        print(\"not less than 3\")\n",
    "        if number <= 7: \n",
    "            print(\"less than 7\")\n",
    "        else:\n",
    "            print(\"not less than 7\")\n",
    "            if number > :\n",
    "                print(\"big\")\n",
    "            else: \n",
    "                print(\"7\")"
   ]
  },
  {
   "cell_type": "markdown",
   "metadata": {},
   "source": [
    "## My Solution to the Homework:"
   ]
  },
  {
   "cell_type": "code",
   "execution_count": 25,
   "metadata": {},
   "outputs": [
    {
     "name": "stdout",
     "output_type": "stream",
     "text": [
      "6\n",
      "This number is 3 binary digits long.\n",
      "This means that your number is 3 bit.\n",
      "110\n"
     ]
    }
   ],
   "source": [
    "def convert(temp):\n",
    "    value = []\n",
    "    temp = float(temp)\n",
    "    i = 0\n",
    "    while temp > 0:\n",
    "        if temp % 2 == 0:\n",
    "            value.append(0)\n",
    "            temp = temp / 2\n",
    "        else:\n",
    "            value.append(1)\n",
    "            temp = temp /2\n",
    "            temp = temp - 0.5\n",
    "        i = i + 1\n",
    "    final = \"\"\n",
    "    x = len(value) - 1\n",
    "    print(\"This number is\",x+1,\"binary digits long.\")\n",
    "    print(\"This means that your number is\",x+1,\"bit.\")\n",
    "    while x >= 0:\n",
    "        final = final + str(value[x])\n",
    "        x = x - 1\n",
    "    print(final)\n",
    "        \n",
    "ssalcsihtetahi = input(\"Type a number.\")\n",
    "print(ssalcsihtetahi)\n",
    "convert(ssalcsihtetahi)"
   ]
  }
 ],
 "metadata": {
  "kernelspec": {
   "display_name": "Python 3.9.6 64-bit",
   "language": "python",
   "name": "python3"
  },
  "language_info": {
   "codemirror_mode": {
    "name": "ipython",
    "version": 3
   },
   "file_extension": ".py",
   "mimetype": "text/x-python",
   "name": "python",
   "nbconvert_exporter": "python",
   "pygments_lexer": "ipython3",
   "version": "3.8.10"
  },
  "orig_nbformat": 4,
  "vscode": {
   "interpreter": {
    "hash": "31f2aee4e71d21fbe5cf8b01ff0e069b9275f58929596ceb00d14d90e3e16cd6"
   }
  }
 },
 "nbformat": 4,
 "nbformat_minor": 2
}
