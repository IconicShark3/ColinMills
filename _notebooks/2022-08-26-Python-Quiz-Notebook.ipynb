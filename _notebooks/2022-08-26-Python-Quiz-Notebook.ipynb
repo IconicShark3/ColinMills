{
 "cells": [
  {
   "cell_type": "code",
   "execution_count": null,
   "metadata": {},
   "outputs": [],
   "source": [
    "points = 0\n",
    "question = \"testing\"\n",
    "answer = \"yes\"\n",
    "while points < 5:\n",
    "    response = input()\n",
    "    if answer == response:\n",
    "        print (\"correct\")\n",
    "        points + 1\n",
    "    else:\n",
    "        print (\"incorrect\")\n",
    "else:\n",
    "    print (\"Win\")"
   ]
  }
 ],
 "metadata": {
  "kernelspec": {
   "display_name": "Python 3.8.10 64-bit",
   "language": "python",
   "name": "python3"
  },
  "language_info": {
   "codemirror_mode": {
    "name": "ipython",
    "version": 3
   },
   "file_extension": ".py",
   "mimetype": "text/x-python",
   "name": "python",
   "nbconvert_exporter": "python",
   "pygments_lexer": "ipython3",
   "version": "3.8.10"
  },
  "orig_nbformat": 4,
  "vscode": {
   "interpreter": {
    "hash": "916dbcbb3f70747c44a77c7bcd40155683ae19c65e1c03b4aa3499c5328201f1"
   }
  }
 },
 "nbformat": 4,
 "nbformat_minor": 2
}
