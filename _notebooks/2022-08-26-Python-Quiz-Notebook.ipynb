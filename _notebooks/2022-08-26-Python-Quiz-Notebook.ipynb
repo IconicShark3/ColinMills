{
 "cells": [
  {
   "cell_type": "markdown",
   "metadata": {},
   "source": [
    "# Python Quiz\n",
    "This is a quiz about some basic python principles written in python\n",
    "- toc: true\n",
    "- badges: true\n",
    "- comments: true\n",
    "- categories: [Jupyter]"
   ]
  },
  {
   "cell_type": "code",
   "execution_count": 7,
   "metadata": {},
   "outputs": [
    {
     "name": "stdout",
     "output_type": "stream",
     "text": [
      "Question:Name the python output command mentioned in this lesson.\n",
      "print is correct!\n",
      "Question:If you see many lines of code in order, what would College Board call it?\n",
      "script is correct!\n",
      "Question:Describe a keyword used in Python to define a function.\n",
      "def is correct!\n",
      "Question:What command is used to include other functions that were previously developed?\n",
      "def is not correct.\n",
      "Question:What command is used to evaluate  correct or incorrect responses in this example?\n",
      "if is correct!\n",
      "Question:Each 'if' command contains an '____' to determine a true or false condition.\n",
      "expression is correct!\n",
      "5/6 Questions\n",
      "0.8333333333333334%\n"
     ]
    }
   ],
   "source": [
    "points = 0\n",
    "correct = 0\n",
    "def q_and_a(prompt):\n",
    "    print (\"Question:\" + prompt )\n",
    "    msg = input()\n",
    "    return msg\n",
    "# This code defines the variables and functions\n",
    "\n",
    "rsp = q_and_a(\"Name the python output command mentioned in this lesson.\")\n",
    "if rsp == \"print\":\n",
    "    print(rsp + \" is correct!\")\n",
    "    correct += 1\n",
    "else:\n",
    "    print(rsp + \" is not correct.\")\n",
    "\n",
    "rsp = q_and_a(\"If you see many lines of code in order, what would College Board call it?\")\n",
    "if rsp == \"script\":\n",
    "    print(rsp + \" is correct!\")\n",
    "    correct += 1\n",
    "else:\n",
    "    print(rsp + \" is not correct.\")\n",
    "\n",
    "rsp = q_and_a(\"Describe a keyword used in Python to define a function.\")\n",
    "if rsp == \"def\":\n",
    "    print(rsp + \" is correct!\")\n",
    "    correct += 1\n",
    "else:\n",
    "    print(rsp + \" is not correct.\")\n",
    "\n",
    "rsp = q_and_a(\"What command is used to include other functions that were previously developed?\")\n",
    "if rsp == \"import\":\n",
    "    print(rsp + \" is correct!\")\n",
    "    correct += 1\n",
    "else:\n",
    "    print(rsp + \" is not correct.\")\n",
    "\n",
    "rsp = q_and_a(\"What command is used to evaluate  correct or incorrect responses in this example?\")\n",
    "if rsp == \"if\":\n",
    "    print(rsp + \" is correct!\")\n",
    "    correct += 1\n",
    "else:\n",
    "    print(rsp + \" is not correct.\")\n",
    "\n",
    "rsp = q_and_a(\"Each 'if' command contains an '____' to determine a true or false condition.\")\n",
    "if rsp == \"expression\":\n",
    "    print(rsp + \" is correct!\")\n",
    "    correct += 1\n",
    "else:\n",
    "    print(rsp + \" is not correct.\")\n",
    "\n",
    "final = str(correct)\n",
    "print(final + \"/6 Questions\" )\n",
    "#this code presents the exact score on the quiz\n",
    "\n",
    "pct = correct / 6\n",
    "fpct = str(pct)\n",
    "print(fpct + \"%\")\n",
    "#this code presents the score as a percent by dividing the correct questions by 6"
   ]
  }
 ],
 "metadata": {
  "kernelspec": {
   "display_name": "Python 3.8.10 64-bit",
   "language": "python",
   "name": "python3"
  },
  "language_info": {
   "codemirror_mode": {
    "name": "ipython",
    "version": 3
   },
   "file_extension": ".py",
   "mimetype": "text/x-python",
   "name": "python",
   "nbconvert_exporter": "python",
   "pygments_lexer": "ipython3",
   "version": "3.8.10"
  },
  "orig_nbformat": 4,
  "vscode": {
   "interpreter": {
    "hash": "916dbcbb3f70747c44a77c7bcd40155683ae19c65e1c03b4aa3499c5328201f1"
   }
  }
 },
 "nbformat": 4,
 "nbformat_minor": 2
}
